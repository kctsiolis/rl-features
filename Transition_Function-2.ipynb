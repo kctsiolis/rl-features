{
  "nbformat": 4,
  "nbformat_minor": 0,
  "metadata": {
    "colab": {
      "provenance": [],
      "collapsed_sections": []
    },
    "kernelspec": {
      "name": "python3",
      "display_name": "Python 3"
    },
    "language_info": {
      "name": "python"
    }
  },
  "cells": [
    {
      "cell_type": "markdown",
      "source": [
        "##This notebook aims at building transition function for GridWorld RL algorithm"
      ],
      "metadata": {
        "id": "zh2uD-qPuHtV"
      }
    },
    {
      "cell_type": "code",
      "source": [
        "import numpy as np\n",
        "import random as rd\n",
        "import decimal as dc\n",
        "import fractions as fr\n",
        "import sys\n",
        "import copy\n",
        "import pandas as pd"
      ],
      "metadata": {
        "id": "2GsQh2SBuCrJ"
      },
      "execution_count": 17,
      "outputs": []
    },
    {
      "cell_type": "code",
      "source": [
        "# https://jermwatt.github.io/machine_learning_refined/notes/5_Linear_regression/5_6_Multi.html"
      ],
      "metadata": {
        "id": "tZvztrPl241n"
      },
      "execution_count": null,
      "outputs": []
    },
    {
      "cell_type": "code",
      "source": [
        "class GridWorld(object):\n",
        "    def __init__(self, dimension = 0, size=0):\n",
        "        self.dimension =  dimension\n",
        "        self.size= size\n",
        "        if (self.dimension<=0):\n",
        "          raise ValueError(\"1-La dimension doit être strictement positive.\")\n",
        "    \n",
        "    def generate_d_empty_grid(self):   \n",
        "        return([[(0,)*self.dimension]*self.size]*self.size)\n",
        "    \n",
        "    def generate_random_positions(self,Number_of_trials):\n",
        "        nulls = [[0]*self.dimension]*self.dimension\n",
        "        base_canonique = [[0]*self.dimension]\n",
        "       \n",
        "       #Je deteste faire des boucles, je n'ai pas eu de meilleure idée \n",
        "       #you're too high level for me i swear \n",
        "        for i in range(self.dimension):\n",
        "            tampon_pos=copy.deepcopy(nulls[i])\n",
        "            tampon_pos[i]=1\n",
        "            tampon_neg=copy.deepcopy(nulls[i])\n",
        "            tampon_neg[i]=-1\n",
        "            base_canonique.append(tampon_pos)\n",
        "            base_canonique.append(tampon_neg)\n",
        "            #print(base_canonique)\n",
        "            del(tampon_pos,tampon_neg)\n",
        "        del(nulls)\n",
        "        #faire tous les uplet de taille d dans 0,size  et tirer number of trials fois avec remise dans ca pour faire le truc d'entrainement \n",
        "        positions = [[rd.randint(0, self.size-1) for _ in range(self.dimension)] for _ in range(Number_of_trials)]\n",
        "        def valid_moves(position,base_canonique):\n",
        "            valid_movs = []\n",
        "            for compteur in range(len(base_canonique)):\n",
        "                tried_move= list(np.add(base_canonique[compteur],position))\n",
        "                if (all(i < (self.size) and i>=0  for i in  tried_move)):\n",
        "                   valid_movs.append(base_canonique[compteur])\n",
        "              \n",
        "            return(valid_movs)\n",
        "        positions_and_associated_move=[]\n",
        "        for i in positions:\n",
        "          valid_movmnts = valid_moves(i,base_canonique)\n",
        "          j=rd.choice(valid_movmnts)\n",
        "          positions_and_associated_move.append([i,j,list(np.add(i,j))])\n",
        "        df=pd.DataFrame(np.array([sum(positions_and_associated_move[i], []) for i in range(len(positions_and_associated_move))]), columns=[\"X_initial\",\"Y_initial\",\"move_X\",\"move_Y\",\"X_arriv\",\"Y_arriv\"])\n",
        "        df[\"final\"]=df[[\"X_arriv\", \"Y_arriv\"]].values.tolist()\n",
        "        df[\"depart\"]=df[[\"X_initial\", \"Y_initial\"]].values.tolist()\n",
        "        return((df))\n",
        "    \n",
        "\n"
      ],
      "metadata": {
        "id": "S58KD5V7u_hT"
      },
      "execution_count": 32,
      "outputs": []
    },
    {
      "cell_type": "code",
      "source": [
        "GW_2=GridWorld(2,9)\n"
      ],
      "metadata": {
        "id": "LpZ_IqVuzTYM"
      },
      "execution_count": 34,
      "outputs": []
    },
    {
      "cell_type": "code",
      "source": [
        "D_B = GW_2.generate_random_positions(10000)"
      ],
      "metadata": {
        "id": "5nhQg9m8zjsi"
      },
      "execution_count": 35,
      "outputs": []
    },
    {
      "cell_type": "code",
      "source": [
        "np.array(D_B[\"depart\"])"
      ],
      "metadata": {
        "colab": {
          "base_uri": "https://localhost:8080/"
        },
        "id": "o3yblGkHjxEI",
        "outputId": "4d9315d3-aa7c-4384-80e7-2ec2c2270ba4"
      },
      "execution_count": 37,
      "outputs": [
        {
          "output_type": "execute_result",
          "data": {
            "text/plain": [
              "array([list([0, 6]), list([6, 4]), list([8, 1]), ..., list([8, 2]),\n",
              "       list([3, 0]), list([6, 0])], dtype=object)"
            ]
          },
          "metadata": {},
          "execution_count": 37
        }
      ]
    },
    {
      "cell_type": "code",
      "source": [
        "# linear regression for multioutput regression\n",
        "from sklearn.datasets import make_regression\n",
        "from sklearn.linear_model import LinearRegression\n",
        "from sklearn.metrics import r2_score\n",
        "from sklearn.model_selection import train_test_split\n",
        "X = D_B[\"depart\"]\n",
        "\n",
        "y=D_B[\"final\"]\n",
        "\n",
        "X=np.asarray([(X[i]) for i in range(len(X))])\n",
        "y=np.asarray([(y[i]) for i in range(len(y))])\n",
        "X_train, X_test, y_train, y_test = train_test_split(X, y, random_state=1)"
      ],
      "metadata": {
        "id": "_4Zvqm4G782Z"
      },
      "execution_count": 46,
      "outputs": []
    },
    {
      "cell_type": "code",
      "source": [
        "X"
      ],
      "metadata": {
        "id": "f8rplhbE8wau",
        "colab": {
          "base_uri": "https://localhost:8080/"
        },
        "outputId": "0a8cd37c-4ef5-44cf-9a92-7fe7e6cf542d"
      },
      "execution_count": 92,
      "outputs": [
        {
          "output_type": "execute_result",
          "data": {
            "text/plain": [
              "array([[0, 6],\n",
              "       [6, 4],\n",
              "       [8, 1],\n",
              "       ...,\n",
              "       [8, 2],\n",
              "       [3, 0],\n",
              "       [6, 0]])"
            ]
          },
          "metadata": {},
          "execution_count": 92
        }
      ]
    },
    {
      "cell_type": "code",
      "source": [
        "# define model\n",
        "model = LinearRegression()\n",
        "# fit model\n",
        "model.fit(X_train, y_train)\n"
      ],
      "metadata": {
        "id": "ICUVFlIl8ZKs",
        "colab": {
          "base_uri": "https://localhost:8080/"
        },
        "outputId": "dd42c776-5cb4-45ad-cc50-7cd438faa151"
      },
      "execution_count": 49,
      "outputs": [
        {
          "output_type": "execute_result",
          "data": {
            "text/plain": [
              "LinearRegression()"
            ]
          },
          "metadata": {},
          "execution_count": 49
        }
      ]
    },
    {
      "cell_type": "code",
      "source": [
        "Y_hat=model.predict(X_test)"
      ],
      "metadata": {
        "id": "g7LYKv9hB2_U"
      },
      "execution_count": 98,
      "outputs": []
    },
    {
      "cell_type": "code",
      "source": [
        "from sklearn.metrics import mean_squared_error\n",
        "mean_squared_error(Y_hat, y_test)\n"
      ],
      "metadata": {
        "colab": {
          "base_uri": "https://localhost:8080/"
        },
        "id": "71BwI344CFb0",
        "outputId": "09c07a45-5aaf-4455-e896-b97c73b42e5e"
      },
      "execution_count": 59,
      "outputs": [
        {
          "output_type": "execute_result",
          "data": {
            "text/plain": [
              "0.3831764665020917"
            ]
          },
          "metadata": {},
          "execution_count": 59
        }
      ]
    },
    {
      "cell_type": "code",
      "source": [
        "#quadratic regression \n",
        "from sklearn.preprocessing import PolynomialFeatures\n",
        "from sklearn.pipeline import make_pipeline\n",
        "from sklearn.linear_model import LinearRegression\n",
        "polyreg=make_pipeline(PolynomialFeatures(2),LinearRegression())\n",
        "polyreg.fit(X_train,y_train)"
      ],
      "metadata": {
        "colab": {
          "base_uri": "https://localhost:8080/"
        },
        "id": "U64IIF3KDacZ",
        "outputId": "b41ae16b-1cc4-46d4-81ed-cd83e87a6924"
      },
      "execution_count": 70,
      "outputs": [
        {
          "output_type": "execute_result",
          "data": {
            "text/plain": [
              "Pipeline(steps=[('polynomialfeatures', PolynomialFeatures()),\n",
              "                ('linearregression', LinearRegression())])"
            ]
          },
          "metadata": {},
          "execution_count": 70
        }
      ]
    },
    {
      "cell_type": "code",
      "source": [
        "y_hat=polyreg.predict(X_test)\n",
        "mean_squared_error(y_hat, y_test)\n",
        "y_hat[1,1]\n",
        "action=[[0,0]]*len(y_hat)\n",
        "A=X_test-y_hat\n",
        "a=map(round,A[1])\n",
        "np.array(list(map(round, A[1])))\n",
        "Y_hat"
      ],
      "metadata": {
        "colab": {
          "base_uri": "https://localhost:8080/"
        },
        "id": "4xCRTvHDD_fU",
        "outputId": "cd4ae868-90a0-473e-ed96-c83cfba073e8"
      },
      "execution_count": 100,
      "outputs": [
        {
          "output_type": "execute_result",
          "data": {
            "text/plain": [
              "array([[3.02964842, 5.93581459],\n",
              "       [6.87883835, 4.97646699],\n",
              "       [3.99144186, 5.93784438],\n",
              "       ...,\n",
              "       [1.11009384, 3.9968215 ],\n",
              "       [1.11211   , 3.02935475],\n",
              "       [3.98942571, 6.90531113]])"
            ]
          },
          "metadata": {},
          "execution_count": 100
        }
      ]
    },
    {
      "cell_type": "code",
      "source": [
        "y_test"
      ],
      "metadata": {
        "colab": {
          "base_uri": "https://localhost:8080/"
        },
        "id": "GWEnLiCBJ-xV",
        "outputId": "8cd2ac6a-20c7-4751-8e10-21daa1c3106a"
      },
      "execution_count": 97,
      "outputs": [
        {
          "output_type": "execute_result",
          "data": {
            "text/plain": [
              "array([[3, 7],\n",
              "       [7, 6],\n",
              "       [4, 5],\n",
              "       ...,\n",
              "       [2, 4],\n",
              "       [1, 4],\n",
              "       [3, 7]])"
            ]
          },
          "metadata": {},
          "execution_count": 97
        }
      ]
    },
    {
      "cell_type": "code",
      "source": [
        "#funny pattern: exemple the state is 3,7 it predicts 3,6 Or the state is 2,4 it predicts 1,4 "
      ],
      "metadata": {
        "id": "kDQy0DXKK0GU"
      },
      "execution_count": null,
      "outputs": []
    },
    {
      "cell_type": "code",
      "source": [
        "#second learning problem: learn from a value S the grid configuration \n",
        " "
      ],
      "metadata": {
        "id": "tCBEEYw7LMKY"
      },
      "execution_count": null,
      "outputs": []
    }
  ]
}